{
  "cells": [
    {
      "cell_type": "markdown",
      "metadata": {
        "colab_type": "text",
        "id": "pH4LO0WFYbEN"
      },
      "source": [
        "To run this notebook, use the following kernel:\n",
        "\n",
        "    blaze build -c opt --copt=-mavx2 --copt=-mfma --config=cuda //third_party/py/tangent:demo_notebook \u0026\u0026 blaze-bin/third_party/py/tangent/demo_notebook"
      ]
    },
    {
      "cell_type": "markdown",
      "metadata": {
        "colab_type": "text",
        "id": "ur8WrXGQl8PD"
      },
      "source": [
        "### Enable eager execution mode"
      ]
    },
    {
      "cell_type": "code",
      "execution_count": 0,
      "metadata": {
        "colab": {
          "autoexec": {
            "startup": false,
            "wait_interval": 0
          }
        },
        "colab_type": "code",
        "id": "Vw-l1ieTNlie"
      },
      "outputs": [],
      "source": [
        "from tensorflow.contrib.eager.python import tfe\n",
        "\n",
        "tfe.enable_eager_execution()"
      ]
    },
    {
      "cell_type": "markdown",
      "metadata": {
        "colab_type": "text",
        "id": "3kIjsuPlmHe6"
      },
      "source": [
        "### Create a Resnet-50 model and use Tangent to compute the loss gradients\n",
        "\n",
        "We use inputs much smaller than the usual sizes for which Resnet was designed; this helps us train relatively fast."
      ]
    },
    {
      "cell_type": "code",
      "execution_count": 0,
      "metadata": {
        "colab": {
          "autoexec": {
            "startup": false,
            "wait_interval": 0
          }
        },
        "colab_type": "code",
        "id": "vnkqljMEJqTq"
      },
      "outputs": [],
      "source": [
        "from tangent.demos.common_kernels import softmax_crossent\n",
        "from tangent.demos import common_kernels\n",
        "from tangent.demos import models\n",
        "from tangent.demos import train_utils\n",
        "from tangent import grad\n",
        "\n",
        "import numpy as np\n",
        "import scipy\n",
        "import tensorflow as tf\n",
        "\n",
        "input_size = 28\n",
        "num_examples = 5000\n",
        "\n",
        "with tf.Graph().as_default(), tf.device('/gpu'):\n",
        "  init_params, init_state, hparams = models.resnet_50_params(\n",
        "      input_shape=(0, input_size, input_size, 1), classes=10, bn_momentum=0.99)\n",
        "\n",
        "  def loss(inputs, params, state, hparams):\n",
        "    x, y = inputs\n",
        "    logits = models.resnet_50(x, params, state, hparams)\n",
        "    return tf.reduce_mean(softmax_crossent(logits, y))\n",
        "\n",
        "  dloss = grad(loss, (1,), True, 'joint', 'reverse', True)"
      ]
    },
    {
      "cell_type": "markdown",
      "metadata": {
        "colab_type": "text",
        "id": "mLJV-GV6mYC2"
      },
      "source": [
        "### Import MNIST data"
      ]
    },
    {
      "cell_type": "code",
      "execution_count": 0,
      "metadata": {
        "colab": {
          "autoexec": {
            "startup": false,
            "wait_interval": 0
          },
          "height": 85,
          "output_extras": [
            {}
          ]
        },
        "colab_type": "code",
        "executionInfo": {
          "elapsed": 1335,
          "status": "ok",
          "timestamp": 1509136247956,
          "user": {
            "displayName": "",
            "photoUrl": "",
            "userId": ""
          },
          "user_tz": 240
        },
        "id": "o2aMK6LCS8IB",
        "outputId": "a1bdebfb-5145-4b26-f8e0-b39db4137fa7"
      },
      "outputs": [
        {
          "name": "stdout",
          "output_type": "stream",
          "text": [
            "Extracting MNIST-data/train-images-idx3-ubyte.gz\n",
            "Extracting MNIST-data/train-labels-idx1-ubyte.gz\n",
            "Extracting MNIST-data/t10k-images-idx3-ubyte.gz\n",
            "Extracting MNIST-data/t10k-labels-idx1-ubyte.gz\n"
          ]
        }
      ],
      "source": [
        "mnist = tf.contrib.learn.datasets.mnist.load_mnist()\n",
        "\n",
        "def preprocess(ds):\n",
        "  labels = np.eye(10)[ds.labels]\n",
        "  features = np.reshape(ds.images, (ds.images.shape[0], 28, 28, 1))\n",
        "  if input_size \u003e 28:\n",
        "    features = scipy.ndimage.zoom(features, (1, input_size / 28, input_size / 28, 1), order=1)\n",
        "  return features, labels\n",
        "\n",
        "train = preprocess(mnist.train)\n",
        "test = preprocess(mnist.test)"
      ]
    },
    {
      "cell_type": "code",
      "execution_count": 0,
      "metadata": {
        "colab": {
          "autoexec": {
            "startup": false,
            "wait_interval": 0
          }
        },
        "colab_type": "code",
        "id": "AiZ1XVlpS7x-"
      },
      "outputs": [],
      "source": [
        "def sample(n=1, split=train, random=True):\n",
        "  if random:\n",
        "    idx = np.random.randint(0, len(split[0]), size=(n,))\n",
        "  else:\n",
        "    idx = np.arange(0, len(split[0]))[:n]\n",
        "  \n",
        "  images = split[0][idx].astype(float)\n",
        "  images = (images - images.mean((1, 2, 3), keepdims=True)) / np.sqrt(images.var((1, 2, 3), keepdims=True))\n",
        "  img = tf.constant(images, dtype=tf.float32)\n",
        "\n",
        "  lbl = tf.constant(split[1][idx], dtype=tf.float32)\n",
        "  return img, lbl"
      ]
    },
    {
      "cell_type": "code",
      "execution_count": 0,
      "metadata": {
        "colab": {
          "autoexec": {
            "startup": false,
            "wait_interval": 0
          },
          "height": 286,
          "output_extras": [
            {}
          ]
        },
        "colab_type": "code",
        "executionInfo": {
          "elapsed": 208,
          "status": "ok",
          "timestamp": 1509136248228,
          "user": {
            "displayName": "",
            "photoUrl": "",
            "userId": ""
          },
          "user_tz": 240
        },
        "id": "o64WEeFxS7hH",
        "outputId": "7577f8d8-2808-4cb2-f29b-77befb6ce7eb"
      },
      "outputs": [
        {
          "data": {
            "image/png": "[encoded data removed]",
            "text/plain": [
              "\u003cmatplotlib.figure.Figure at 0x7f27f4ea3110\u003e"
            ]
          },
          "metadata": {
            "tags": []
          },
          "output_type": "display_data"
        }
      ],
      "source": [
        "from matplotlib import pyplot as plt\n",
        "\n",
        "x, y = sample(1)\n",
        "\n",
        "plt.imshow(\n",
        "    np.matrix(tf.reshape(x[0], (input_size, input_size)).numpy()), interpolation=\"nearest\")\n",
        "plt.colorbar()\n",
        "plt.title(str(y[0].numpy()))\n",
        "_ = plt.show()"
      ]
    },
    {
      "cell_type": "markdown",
      "metadata": {
        "colab_type": "text",
        "id": "FDDvolkMnV1Z"
      },
      "source": [
        "### Train the model\n",
        "\n",
        "We train for a  very small number of steps, because we only want to show that the model can train. Training should take 1.5 minutes, depending on the power of the machine on whici your kernel runs. "
      ]
    },
    {
      "cell_type": "code",
      "execution_count": 0,
      "metadata": {
        "colab": {
          "autoexec": {
            "startup": false,
            "wait_interval": 0
          },
          "height": 446,
          "output_extras": [
            {},
            {}
          ]
        },
        "colab_type": "code",
        "executionInfo": {
          "elapsed": 147231,
          "status": "ok",
          "timestamp": 1509136395492,
          "user": {
            "displayName": "",
            "photoUrl": "",
            "userId": ""
          },
          "user_tz": 240
        },
        "id": "3o_nT6spDV7x",
        "outputId": "2f169b48-668a-4dad-ed18-f03437a98660"
      },
      "outputs": [
        {
          "name": "stdout",
          "output_type": "stream",
          "text": [
            "  0:  4.288\n",
            " 50:  1.616\n",
            " 100:  0.585\n",
            " 150:  0.477\n",
            " 200:  0.452\n",
            " 250:  0.220\n",
            " 300:  0.295\n",
            " 350:  0.173\n",
            " 400:  0.259\n",
            " 450:  0.189\n"
          ]
        },
        {
          "data": {
            "image/png": "[encoded data removed]",
            "text/plain": [
              "\u003cmatplotlib.figure.Figure at 0x7f275f952f90\u003e"
            ]
          },
          "metadata": {
            "tags": []
          },
          "output_type": "display_data"
        }
      ],
      "source": [
        "with tf.Graph().as_default(), tf.device('/gpu'):\n",
        "  num_steps = 500\n",
        "\n",
        "  params = train_utils.copy_dict(init_params)\n",
        "  state = train_utils.copy_dict(init_state)\n",
        "  \n",
        "  lr = 1e-4\n",
        "  losses = []\n",
        "  \n",
        "  vs = []\n",
        "  train_utils.flatten_dict(params, vs)\n",
        "  optimizer = tf.train.MomentumOptimizer(lr, 0.96)\n",
        "\n",
        "  steps = list(range(num_steps))\n",
        "  for i in steps:\n",
        "    x, y = sample(64)\n",
        "    \n",
        "    dparams, l = dloss((x, y), params, state, hparams, tf.ones(()))\n",
        "    \n",
        "    grads = []\n",
        "    train_utils.flatten_dict(dparams, grads)\n",
        "    \n",
        "    optimizer.apply_gradients(zip(grads, vs))\n",
        "\n",
        "    losses.append(l)\n",
        "    if num_steps \u003c 10 or i % (num_steps // 10) == 0:\n",
        "      print '% 3d: % 2.3f' % (i, l)\n",
        "\n",
        "  _ = plt.plot(losses)"
      ]
    },
    {
      "cell_type": "markdown",
      "metadata": {
        "colab_type": "text",
        "id": "s7jy9oJqoKXq"
      },
      "source": [
        "### Validate the model\n",
        "\n",
        "Typically, one can easily reach 98% accuracy on MNIST. But since Resnet is so large, even with a small input, the \"low\" 90% validation accuracy is expected when training just 500 steps."
      ]
    },
    {
      "cell_type": "code",
      "execution_count": 0,
      "metadata": {
        "colab": {
          "autoexec": {
            "startup": false,
            "wait_interval": 0
          },
          "height": 286,
          "output_extras": [
            {}
          ]
        },
        "colab_type": "code",
        "executionInfo": {
          "elapsed": 2225,
          "status": "ok",
          "timestamp": 1509136397747,
          "user": {
            "displayName": "",
            "photoUrl": "",
            "userId": ""
          },
          "user_tz": 240
        },
        "id": "pXrPqe79KOys",
        "outputId": "d26ecf52-d6cf-44d4-ba6b-bfa3d1cf9c26"
      },
      "outputs": [
        {
          "data": {
            "image/png": "[encoded data removed]",
            "text/plain": [
              "\u003cmatplotlib.figure.Figure at 0x7f275fe2fe50\u003e"
            ]
          },
          "metadata": {
            "tags": []
          },
          "output_type": "display_data"
        }
      ],
      "source": [
        "from sklearn import metrics\n",
        "\n",
        "with tf.Graph().as_default(), tf.device('/gpu'):\n",
        "  n = len(test[0])\n",
        "  x, y = sample(n, test, False)\n",
        "  logits = models.resnet_50(x, params, state, hparams)\n",
        "\n",
        "  y = tf.argmax(y, axis=1).numpy()\n",
        "  y_hat = tf.argmax(logits, axis=1).numpy()\n",
        "  \n",
        "  cmat = metrics.confusion_matrix(y_hat, y)\n",
        "  cmat = cmat.astype('float') / cmat.sum(axis=1)[:, np.newaxis]\n",
        "\n",
        "  acc = np.sum((y == y_hat).astype('float')) / n\n",
        "\n",
        "  plt.grid(False)\n",
        "  plt.title('%s test accuracy' % acc)\n",
        "  _ = plt.imshow(cmat, interpolation='nearest')"
      ]
    }
  ],
  "metadata": {
    "colab": {
      "collapsed_sections": [],
      "default_view": {},
      "name": "Resnet demo",
      "provenance": [
        {
          "file_id": "0B1ymeC_TeE1dRWE5aFduTXd6dzA",
          "timestamp": 1505942255136
        }
      ],
      "version": "0.3.2",
      "views": {}
    }
  },
  "nbformat": 4,
  "nbformat_minor": 0
}
